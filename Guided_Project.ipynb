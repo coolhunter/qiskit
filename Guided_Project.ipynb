{
  "nbformat": 4,
  "nbformat_minor": 0,
  "metadata": {
    "kernelspec": {
      "display_name": "Python 3",
      "language": "python",
      "name": "python3"
    },
    "language_info": {
      "codemirror_mode": {
        "name": "ipython",
        "version": 3
      },
      "file_extension": ".py",
      "mimetype": "text/x-python",
      "name": "python",
      "nbconvert_exporter": "python",
      "pygments_lexer": "ipython3",
      "version": "3.7.4"
    },
    "colab": {
      "name": "Guided Project.ipynb",
      "provenance": [],
      "include_colab_link": true
    }
  },
  "cells": [
    {
      "cell_type": "markdown",
      "metadata": {
        "id": "view-in-github",
        "colab_type": "text"
      },
      "source": [
        "<a href=\"https://colab.research.google.com/github/coolhunter/qiskit/blob/main/Guided_Project.ipynb\" target=\"_parent\"><img src=\"https://colab.research.google.com/assets/colab-badge.svg\" alt=\"Open In Colab\"/></a>"
      ]
    },
    {
      "cell_type": "markdown",
      "metadata": {
        "id": "a7gC9yXWO-uh"
      },
      "source": [
        "# Task One : Fuandamentals of Qunatum Computation"
      ]
    },
    {
      "cell_type": "markdown",
      "metadata": {
        "id": "4D0LFLMhO-ut"
      },
      "source": [
        "## Basic Arithmatic Operations & Complex Numbers"
      ]
    },
    {
      "cell_type": "code",
      "metadata": {
        "id": "GhE9ifLPO-uv",
        "outputId": "7c977e4b-e1f6-45d8-a0ae-0ac46d58943b"
      },
      "source": [
        "5+9"
      ],
      "execution_count": null,
      "outputs": [
        {
          "output_type": "execute_result",
          "data": {
            "text/plain": [
              "14"
            ]
          },
          "metadata": {
            "tags": []
          },
          "execution_count": 2
        }
      ]
    },
    {
      "cell_type": "code",
      "metadata": {
        "id": "iMzTpwK1O-uw",
        "outputId": "10e06d37-a0ae-4a78-d991-cd555a789d22"
      },
      "source": [
        "12*4"
      ],
      "execution_count": null,
      "outputs": [
        {
          "output_type": "execute_result",
          "data": {
            "text/plain": [
              "48"
            ]
          },
          "metadata": {
            "tags": []
          },
          "execution_count": 3
        }
      ]
    },
    {
      "cell_type": "markdown",
      "metadata": {
        "id": "BM51ISjgO-ux"
      },
      "source": [
        "Complex numbers are always of the form\n",
        "\n",
        "\\begin{align}\n",
        "\\alpha = a + bi\n",
        "\\end{align}\n"
      ]
    },
    {
      "cell_type": "code",
      "metadata": {
        "id": "9FtQDamjO-uy",
        "outputId": "954da185-ccf7-4257-a11d-6de66fcf8ab8"
      },
      "source": [
        "1j * 1j"
      ],
      "execution_count": null,
      "outputs": [
        {
          "output_type": "execute_result",
          "data": {
            "text/plain": [
              "(-1+0j)"
            ]
          },
          "metadata": {
            "tags": []
          },
          "execution_count": 4
        }
      ]
    },
    {
      "cell_type": "code",
      "metadata": {
        "id": "71jYscr4O-u0"
      },
      "source": [
        "z = 3 + 4j\n",
        "w = 1 - 2j"
      ],
      "execution_count": null,
      "outputs": []
    },
    {
      "cell_type": "code",
      "metadata": {
        "id": "V7-qZO3WO-u0"
      },
      "source": [
        "import numpy as np"
      ],
      "execution_count": null,
      "outputs": []
    },
    {
      "cell_type": "code",
      "metadata": {
        "id": "iAeF25XdO-u1",
        "outputId": "b5f0c346-8d91-4d05-aea6-34db04048a9b"
      },
      "source": [
        "print('z=', z)\n",
        "print('Real(z)=', np.real(z))\n",
        "print('Imag(z)=', np.imag(z))"
      ],
      "execution_count": null,
      "outputs": [
        {
          "output_type": "stream",
          "text": [
            "z= (3+4j)\n",
            "Real(z)= 3.0\n",
            "Imag(z)= 4.0\n"
          ],
          "name": "stdout"
        }
      ]
    },
    {
      "cell_type": "code",
      "metadata": {
        "id": "m6G5-MH4O-u2",
        "outputId": "10c3669f-5011-465f-d3ae-42250285571a"
      },
      "source": [
        "z+w"
      ],
      "execution_count": null,
      "outputs": [
        {
          "output_type": "execute_result",
          "data": {
            "text/plain": [
              "(4+2j)"
            ]
          },
          "metadata": {
            "tags": []
          },
          "execution_count": 8
        }
      ]
    },
    {
      "cell_type": "code",
      "metadata": {
        "id": "B9EE-rO6O-u3",
        "outputId": "7b462b79-8522-4716-a43e-55b1215e35c3"
      },
      "source": [
        "z-w"
      ],
      "execution_count": null,
      "outputs": [
        {
          "output_type": "execute_result",
          "data": {
            "text/plain": [
              "(2+6j)"
            ]
          },
          "metadata": {
            "tags": []
          },
          "execution_count": 9
        }
      ]
    },
    {
      "cell_type": "code",
      "metadata": {
        "id": "Eus-vtKeO-u4",
        "outputId": "f9394b90-862a-47d3-a474-8277613f822b"
      },
      "source": [
        "z/w"
      ],
      "execution_count": null,
      "outputs": [
        {
          "output_type": "execute_result",
          "data": {
            "text/plain": [
              "(-1+2j)"
            ]
          },
          "metadata": {
            "tags": []
          },
          "execution_count": 10
        }
      ]
    },
    {
      "cell_type": "markdown",
      "metadata": {
        "id": "9UVQvLDVO-u4"
      },
      "source": [
        "## Complex conjugate"
      ]
    },
    {
      "cell_type": "code",
      "metadata": {
        "id": "DcRQVI_WO-u5",
        "outputId": "62803d62-a141-4b59-9487-ee93e845dbe4"
      },
      "source": [
        "z"
      ],
      "execution_count": null,
      "outputs": [
        {
          "output_type": "execute_result",
          "data": {
            "text/plain": [
              "(3+4j)"
            ]
          },
          "metadata": {
            "tags": []
          },
          "execution_count": 11
        }
      ]
    },
    {
      "cell_type": "code",
      "metadata": {
        "id": "zvR3oDTvO-u6",
        "outputId": "7060f1a4-7d74-4459-e92b-4cbbfe27b98c"
      },
      "source": [
        "np.conj(z)"
      ],
      "execution_count": null,
      "outputs": [
        {
          "output_type": "execute_result",
          "data": {
            "text/plain": [
              "(3-4j)"
            ]
          },
          "metadata": {
            "tags": []
          },
          "execution_count": 12
        }
      ]
    },
    {
      "cell_type": "markdown",
      "metadata": {
        "id": "Lo2w3CmVO-u6"
      },
      "source": [
        "## Norms/Absolute Values\n",
        "\n",
        "\n",
        "\n",
        "\\begin{align} ||z|| &= \\sqrt{zz^*} = \\sqrt{|z|^2},\\\\ ||w|| &= \\sqrt{ww^*} = \\sqrt{|w|^2}, \\end{align} "
      ]
    },
    {
      "cell_type": "code",
      "metadata": {
        "id": "GYSjJDLcO-u7",
        "outputId": "eddc9060-9a4b-4c57-b1a6-d17cf2b43420"
      },
      "source": [
        "print('||z||=', np.abs(z))"
      ],
      "execution_count": null,
      "outputs": [
        {
          "output_type": "stream",
          "text": [
            "||z||= 5.0\n"
          ],
          "name": "stdout"
        }
      ]
    },
    {
      "cell_type": "code",
      "metadata": {
        "id": "P_005-i3O-u7",
        "outputId": "9ad02cfa-c666-4538-fc59-fdf9fb923151"
      },
      "source": [
        "print('||w||=', np.abs(w))"
      ],
      "execution_count": null,
      "outputs": [
        {
          "output_type": "stream",
          "text": [
            "||w||= 2.23606797749979\n"
          ],
          "name": "stdout"
        }
      ]
    },
    {
      "cell_type": "markdown",
      "metadata": {
        "id": "PufhytMfO-u8"
      },
      "source": [
        "## Row Vectors, Column Vectors, and Bra-Ket Notation"
      ]
    },
    {
      "cell_type": "markdown",
      "metadata": {
        "id": "JAmX4uUnO-u8"
      },
      "source": [
        "\\begin{align} \\text{Column Vector:} \\ \\begin{pmatrix}\n",
        "a_1 \\\\ a_2 \\\\ \\vdots \\\\ a_n\n",
        "\\end{pmatrix} \n",
        "\\quad \\quad \\text{Row Vector:} \\ \\begin{pmatrix}\n",
        "a_1, & a_2, & \\cdots, & a_n\n",
        "\\end{pmatrix} \\end{align}\n",
        "\n"
      ]
    },
    {
      "cell_type": "code",
      "metadata": {
        "id": "5U2xcX1EO-u9"
      },
      "source": [
        "# Create a vector as a row\n",
        "row_vector = np.array([2-1j, 7j, -3])\n",
        "\n",
        "# Create a vector as a column\n",
        "column_vector = np.array([[2+1j],\n",
        "                          [-5],\n",
        "                          [2j]])"
      ],
      "execution_count": null,
      "outputs": []
    },
    {
      "cell_type": "code",
      "metadata": {
        "id": "a3hEexp3O-u-",
        "outputId": "708021ab-9604-4494-b7d5-9e4ea1858488"
      },
      "source": [
        "row_vector"
      ],
      "execution_count": null,
      "outputs": [
        {
          "output_type": "execute_result",
          "data": {
            "text/plain": [
              "array([ 2.-1.j,  0.+7.j, -3.+0.j])"
            ]
          },
          "metadata": {
            "tags": []
          },
          "execution_count": 16
        }
      ]
    },
    {
      "cell_type": "markdown",
      "metadata": {
        "id": "cPQH1HW2O-u-"
      },
      "source": [
        "Row vectors in quantum mechanics are also called **bra-vectors**, and are denoted as follows:\n",
        "\n",
        "\\begin{align} \\langle A| = \\begin{pmatrix}\n",
        "a_1, & a_2, \\cdots, & a_n\n",
        "\\end{pmatrix} \\end{align}\n",
        "\n",
        "Column vectors are also called **ket-vectors** in quantum mechanics denoted as follows:\n",
        "\n",
        "\\begin{align} |B\\rangle = \\begin{pmatrix}\n",
        "b_1 \\\\ b_2 \\\\ \\vdots \\\\ b_n\n",
        "\\end{pmatrix} \\end{align}\n",
        "\n",
        "In general, if we have a column vector, i.e. a ket-vector:\n",
        "\n",
        "\\begin{align} |A\\rangle = \\begin{pmatrix}\n",
        "a_1 \\\\ a_2 \\\\ \\vdots \\\\ a_n\n",
        "\\end{pmatrix} \\end{align}\n",
        "\n",
        "the corresponding bra-vector:\n",
        "\n",
        "\\begin{align} \\langle A| = \\begin{pmatrix}\n",
        "a_1^*, & a_2^*, & \\cdots, & a_n^*\n",
        "\\end{pmatrix} \\end{align}\n"
      ]
    },
    {
      "cell_type": "code",
      "metadata": {
        "id": "6piMcfKrO-u_"
      },
      "source": [
        "ket_A = np.array([[2-1j],\n",
        "                  [5]])\n",
        "ket_B = np.array([[7], \n",
        "                  [-3j]])"
      ],
      "execution_count": null,
      "outputs": []
    },
    {
      "cell_type": "code",
      "metadata": {
        "id": "uVCjPBl1O-u_",
        "outputId": "d58e89ad-a859-4a27-c5e6-f8cdfd359a17"
      },
      "source": [
        "print(ket_A + ket_B)"
      ],
      "execution_count": null,
      "outputs": [
        {
          "output_type": "stream",
          "text": [
            "[[9.-1.j]\n",
            " [5.-3.j]]\n"
          ],
          "name": "stdout"
        }
      ]
    },
    {
      "cell_type": "markdown",
      "metadata": {
        "id": "oAicwW3uO-vA"
      },
      "source": [
        "## Inner Product\n",
        "\n",
        "\\begin{align} \\langle A| = \\begin{pmatrix}\n",
        "a_1, & a_2, & \\cdots, & a_n\n",
        "\\end{pmatrix}, \\quad \\quad\n",
        "|B\\rangle = \\begin{pmatrix}\n",
        "b_1 \\\\ b_2 \\\\ \\vdots \\\\ b_n\n",
        "\\end{pmatrix} \\end{align}\n",
        "\n",
        "Taking the inner product of $\\langle A|$ and $|B\\rangle$ gives the following:\n",
        "\n",
        "\\begin{align} \\langle A| B \\rangle &= \\begin{pmatrix} \n",
        "a_1, & a_2, & \\cdots, & a_n\n",
        "\\end{pmatrix}\n",
        "\\begin{pmatrix}\n",
        "b_1 \\\\ b_2 \\\\ \\vdots \\\\ b_n\n",
        "\\end{pmatrix}\\\\\n",
        "&= \n",
        "a_1b_1 + a_2b_2 + \\cdots + a_nb_n\\\\\n",
        "&= \\sum_{i=1}^n a_ib_i\n",
        "\\end{align}"
      ]
    },
    {
      "cell_type": "code",
      "metadata": {
        "id": "1v3ngYOQO-vB",
        "outputId": "df4db0c7-7001-46e2-d378-6ecb17671217"
      },
      "source": [
        "# Define the 4x1 matrix version of a column vector (instead of using the np.array() version):\n",
        "A = np.matrix([[1-1j], \n",
        "               [3], \n",
        "               [2j], \n",
        "               [5+1j]])\n",
        "A"
      ],
      "execution_count": null,
      "outputs": [
        {
          "output_type": "execute_result",
          "data": {
            "text/plain": [
              "matrix([[1.-1.j],\n",
              "        [3.+0.j],\n",
              "        [0.+2.j],\n",
              "        [5.+1.j]])"
            ]
          },
          "metadata": {
            "tags": []
          },
          "execution_count": 19
        }
      ]
    },
    {
      "cell_type": "code",
      "metadata": {
        "id": "TbibDqa8O-vB",
        "outputId": "9ec1dbed-5c39-4fde-b749-1e07b5b1dad7"
      },
      "source": [
        "# Define B as a 1x4 matrix\n",
        "B = np.matrix([[-3j, 2+2j, -6j, -7]])\n",
        "\n",
        "B"
      ],
      "execution_count": null,
      "outputs": [
        {
          "output_type": "execute_result",
          "data": {
            "text/plain": [
              "matrix([[-0.-3.j,  2.+2.j, -0.-6.j, -7.+0.j]])"
            ]
          },
          "metadata": {
            "tags": []
          },
          "execution_count": 20
        }
      ]
    },
    {
      "cell_type": "code",
      "metadata": {
        "id": "lKF6hIowO-vC",
        "outputId": "d2d0c12c-1f4d-4351-dbe9-9033ad2a042d"
      },
      "source": [
        "# Compute <B|A>\n",
        "np.dot(B,A)"
      ],
      "execution_count": null,
      "outputs": [
        {
          "output_type": "execute_result",
          "data": {
            "text/plain": [
              "matrix([[-20.-4.j]])"
            ]
          },
          "metadata": {
            "tags": []
          },
          "execution_count": 21
        }
      ]
    },
    {
      "cell_type": "markdown",
      "metadata": {
        "id": "yZPFpwz-O-vD"
      },
      "source": [
        "## Matrices"
      ]
    },
    {
      "cell_type": "markdown",
      "metadata": {
        "id": "Dg_cGXTEO-vD"
      },
      "source": [
        "\n",
        "\\begin{align}\n",
        "M = \\begin{pmatrix}\n",
        "2-i & -3 \\\\\n",
        "-5i & 2\n",
        "\\end{pmatrix}\n",
        "\\end{align}"
      ]
    },
    {
      "cell_type": "code",
      "metadata": {
        "id": "wginfbVgO-vE",
        "outputId": "c4d3eec4-7deb-463e-d667-a3acd17ee279"
      },
      "source": [
        "M = np.array([[2-1j, -3],\n",
        "              [-5j, 2]])\n",
        "\n",
        "print(M)"
      ],
      "execution_count": null,
      "outputs": [
        {
          "output_type": "stream",
          "text": [
            "[[ 2.-1.j -3.+0.j]\n",
            " [-0.-5.j  2.+0.j]]\n"
          ],
          "name": "stdout"
        }
      ]
    },
    {
      "cell_type": "code",
      "metadata": {
        "id": "RpmtqfT5O-vE",
        "outputId": "e911d22e-aa20-49ef-ad55-489dfcbed5d9"
      },
      "source": [
        "M = np.matrix([[2-1j, -3],\n",
        "               [-5j, 2]])\n",
        "\n",
        "print(M)"
      ],
      "execution_count": null,
      "outputs": [
        {
          "output_type": "stream",
          "text": [
            "[[ 2.-1.j -3.+0.j]\n",
            " [-0.-5.j  2.+0.j]]\n"
          ],
          "name": "stdout"
        }
      ]
    },
    {
      "cell_type": "markdown",
      "metadata": {
        "id": "01yu8FarO-vF"
      },
      "source": [
        "Hermitian conjugates are given by taking the conjugate transpose of the matrix"
      ]
    },
    {
      "cell_type": "code",
      "metadata": {
        "id": "68DJajFTO-vG",
        "outputId": "c006a0e1-a1c6-4b1b-edb1-76445d879de8"
      },
      "source": [
        "print(M.H)"
      ],
      "execution_count": null,
      "outputs": [
        {
          "output_type": "stream",
          "text": [
            "[[ 2.+1.j -0.+5.j]\n",
            " [-3.-0.j  2.-0.j]]\n"
          ],
          "name": "stdout"
        }
      ]
    },
    {
      "cell_type": "markdown",
      "metadata": {
        "id": "C3fobBUQO-vG"
      },
      "source": [
        "## Tensor Products of Matrices"
      ]
    },
    {
      "cell_type": "markdown",
      "metadata": {
        "id": "z48IVp76O-vH"
      },
      "source": [
        "\\begin{align}\n",
        "\\begin{pmatrix}\n",
        "a & b \\\\\n",
        "c & d\n",
        "\\end{pmatrix} \\otimes \n",
        "\\begin{pmatrix}\n",
        "x & y \\\\\n",
        "z & w\n",
        "\\end{pmatrix} = \n",
        "\\begin{pmatrix}\n",
        "a \\begin{pmatrix}\n",
        "x & y \\\\\n",
        "z & w\n",
        "\\end{pmatrix} & b \\begin{pmatrix}\n",
        "x & y \\\\\n",
        "z & w\n",
        "\\end{pmatrix} \\\\\n",
        "c \\begin{pmatrix}\n",
        "x & y \\\\\n",
        "z & w\n",
        "\\end{pmatrix} & d \\begin{pmatrix}\n",
        "x & y \\\\\n",
        "z & w\n",
        "\\end{pmatrix}\n",
        "\\end{pmatrix} = \n",
        "\\begin{pmatrix}\n",
        "ax & ay & bx & by \\\\\n",
        "az & aw & bz & bw \\\\\n",
        "cx & cy & dx & dy \\\\\n",
        "cz & cw & dz & dw\n",
        "\\end{pmatrix}\n",
        "\\end{align}"
      ]
    },
    {
      "cell_type": "code",
      "metadata": {
        "id": "Pdk1IkPhPH0p"
      },
      "source": [
        "A = np.matrix([[1j+8 , 2j-6], []])\n",
        "\n",
        "\n",
        "\n",
        "\n",
        "\n",
        "\n",
        "\n",
        "\n",
        "\n",
        "\n"
      ],
      "execution_count": null,
      "outputs": []
    },
    {
      "cell_type": "markdown",
      "metadata": {
        "id": "R3ja1oCuO-vI"
      },
      "source": [
        "# Task Two: Qubits, Bloch Sphere and Basis States"
      ]
    },
    {
      "cell_type": "code",
      "metadata": {
        "id": "jum5OvLHO-vJ",
        "outputId": "aa01db0d-bfbd-4bbe-a138-220796ba4e77"
      },
      "source": [
        "import qiskit\n",
        "qiskit.__qiskit_version__"
      ],
      "execution_count": null,
      "outputs": [
        {
          "output_type": "execute_result",
          "data": {
            "text/plain": [
              "{'qiskit-terra': '0.14.2',\n",
              " 'qiskit-aer': '0.5.2',\n",
              " 'qiskit-ignis': '0.3.3',\n",
              " 'qiskit-ibmq-provider': '0.7.2',\n",
              " 'qiskit-aqua': '0.7.3',\n",
              " 'qiskit': '0.19.6'}"
            ]
          },
          "metadata": {
            "tags": []
          },
          "execution_count": 26
        }
      ]
    },
    {
      "cell_type": "markdown",
      "metadata": {
        "id": "FKv7zcfmO-vK"
      },
      "source": [
        "\n",
        "\n",
        "\\begin{align}\n",
        "|\\psi \\rangle = \\begin{pmatrix}\n",
        "\\alpha \\\\ \\beta\n",
        "\\end{pmatrix}, \\quad \\text{where } \\sqrt{\\langle \\psi | \\psi \\rangle} = 1. \n",
        "\\end{align}"
      ]
    },
    {
      "cell_type": "markdown",
      "metadata": {
        "id": "ar94_9XZO-vK"
      },
      "source": [
        "Think of Qubit as an Electron:\n",
        "\n",
        "\\begin{align}\n",
        "\\text{spin-up}: \\ |0\\rangle &= \\begin{pmatrix} 1\\\\0 \\end{pmatrix} \\\\\n",
        "\\text{spin-down}: \\ |1\\rangle & = \\begin{pmatrix} 0\\\\1 \\end{pmatrix}\n",
        "\\end{align}"
      ]
    },
    {
      "cell_type": "code",
      "metadata": {
        "id": "cVwHNRkWO-vL"
      },
      "source": [
        "import numpy as np\n",
        "from qiskit import *\n",
        "from qiskit.visualization import plot_bloch_vector\n",
        "%matplotlib inline"
      ],
      "execution_count": null,
      "outputs": []
    },
    {
      "cell_type": "markdown",
      "metadata": {
        "id": "Gry0op0NO-vM"
      },
      "source": [
        "Another representation is via Bloch Sphere:"
      ]
    },
    {
      "cell_type": "code",
      "metadata": {
        "id": "b-XM1ZPGO-vM",
        "outputId": "f59c1bc8-13dd-4632-aef8-a77516409f40"
      },
      "source": [
        "plot_bloch_vector([0,0,1], title=\"Spin-Up\")"
      ],
      "execution_count": null,
      "outputs": [
        {
          "output_type": "execute_result",
          "data": {
            "image/png": "[encoded data removed]",
            "text/plain": [
              "<Figure size 360x360 with 1 Axes>"
            ]
          },
          "metadata": {
            "tags": []
          },
          "execution_count": 28
        }
      ]
    },
    {
      "cell_type": "markdown",
      "metadata": {
        "id": "bZgpqtU-O-vN"
      },
      "source": [
        "## Spin + / - :\n",
        "\n",
        "\\begin{align}\n",
        "\\text{spin +}: \\ |+\\rangle &= \\begin{pmatrix} 1/\\sqrt{2} \\\\ 1/\\sqrt{2} \\end{pmatrix} = \\frac{1}{\\sqrt{2}} \\left(|0\\rangle + |1\\rangle\\right) \\\\\n",
        "\\text{spin -}: \\ |-\\rangle & = \\begin{pmatrix} 1/\\sqrt{2} \\\\ -1/\\sqrt{2} \\end{pmatrix} = \\frac{1}{\\sqrt{2}} \\left(|0\\rangle - |1\\rangle\\right)\n",
        "\\end{align}"
      ]
    },
    {
      "cell_type": "code",
      "metadata": {
        "id": "xxwnMUplO-vO",
        "outputId": "95763f3d-2652-47f6-b7e2-02c822a6d13c"
      },
      "source": [
        "plot_bloch_vector([1,0,0], title=\"spin-plus\")"
      ],
      "execution_count": null,
      "outputs": [
        {
          "output_type": "execute_result",
          "data": {
            "image/png": "[encoded data removed]",
            "text/plain": [
              "<Figure size 360x360 with 1 Axes>"
            ]
          },
          "metadata": {
            "tags": []
          },
          "execution_count": 29
        }
      ]
    },
    {
      "cell_type": "markdown",
      "metadata": {
        "id": "gSEXag85O-vP"
      },
      "source": [
        "## Basis States"
      ]
    },
    {
      "cell_type": "markdown",
      "metadata": {
        "id": "IRqgXr8_O-vP"
      },
      "source": [
        "\n",
        "\\begin{align}\n",
        " |0\\rangle &= \\begin{pmatrix} 1\\\\0 \\end{pmatrix} \\\\\n",
        " |1\\rangle & = \\begin{pmatrix} 0\\\\1 \\end{pmatrix}\n",
        "\\end{align}\n",
        "Preapring other states from Basis States:\n",
        "\\begin{align}\n",
        "|00 \\rangle &= |0\\rangle \\otimes |0\\rangle = \\begin{pmatrix} 1\\\\0 \\end{pmatrix} \\otimes \\begin{pmatrix} 1\\\\0 \\end{pmatrix} = \\begin{pmatrix} 1\\\\0\\\\0\\\\0 \\end{pmatrix} \\\\\n",
        "|01 \\rangle &= |0\\rangle \\otimes |1\\rangle = \\begin{pmatrix} 1\\\\0 \\end{pmatrix} \\otimes \\begin{pmatrix} 0\\\\1 \\end{pmatrix} = \\begin{pmatrix} 0\\\\1\\\\0\\\\0 \\end{pmatrix} \\\\\n",
        "|10 \\rangle &= |1\\rangle \\otimes |0\\rangle = \\begin{pmatrix} 0\\\\1 \\end{pmatrix} \\otimes \\begin{pmatrix} 1\\\\0 \\end{pmatrix} = \\begin{pmatrix} 0\\\\0\\\\1\\\\0 \\end{pmatrix} \\\\\n",
        "|11 \\rangle &= |1\\rangle \\otimes |1\\rangle = \\begin{pmatrix} 0\\\\1 \\end{pmatrix} \\otimes \\begin{pmatrix} 0\\\\1 \\end{pmatrix} = \\begin{pmatrix} 0\\\\0\\\\0\\\\1 \\end{pmatrix}\n",
        "\\end{align}"
      ]
    },
    {
      "cell_type": "code",
      "metadata": {
        "id": "k-ubEPcIO-vQ"
      },
      "source": [
        "qubit1_state = np.matrix([[1],[0]]) \n",
        "qubit2_state = np.matrix([[0],[1]])\n",
        "\n",
        "two_qubit_state =np.kron(qubit1_state, qubit2_state)"
      ],
      "execution_count": null,
      "outputs": []
    },
    {
      "cell_type": "code",
      "metadata": {
        "id": "-qXgY4WxO-vR"
      },
      "source": [
        ""
      ],
      "execution_count": null,
      "outputs": []
    },
    {
      "cell_type": "markdown",
      "metadata": {
        "id": "I1U1NJpcO-vU"
      },
      "source": [
        "# Task Three: Qunatum Gates and Circuits"
      ]
    },
    {
      "cell_type": "code",
      "metadata": {
        "id": "5XJskElBO-vV"
      },
      "source": [
        "from qiskit import *\n",
        "from qiskit.visualization import plot_bloch_multivector"
      ],
      "execution_count": null,
      "outputs": []
    },
    {
      "cell_type": "markdown",
      "metadata": {
        "id": "ve6fmeqjO-vV"
      },
      "source": [
        "## Pauli Matrices"
      ]
    },
    {
      "cell_type": "markdown",
      "metadata": {
        "id": "EE3dOLhSO-vW"
      },
      "source": [
        "\\begin{align}\n",
        "I = \\begin{pmatrix} 1&0 \\\\ 0&1 \\end{pmatrix}, \\quad\n",
        "X = \\begin{pmatrix} 0&1 \\\\ 1&0 \\end{pmatrix}, \\quad\n",
        "Y = \\begin{pmatrix} 0&i \\\\ -i&0 \\end{pmatrix}, \\quad\n",
        "Z = \\begin{pmatrix} 1&0 \\\\ 0&-1 \\end{pmatrix} \\quad\n",
        "\\end{align}"
      ]
    },
    {
      "cell_type": "markdown",
      "metadata": {
        "id": "Yvp-IxDvO-vW"
      },
      "source": [
        "## X-gate"
      ]
    },
    {
      "cell_type": "markdown",
      "metadata": {
        "id": "KqErxt06O-vW"
      },
      "source": [
        "The X-gate is represented by the Pauli-X matrix:\n",
        "\n",
        "$$ X = \\begin{bmatrix} 0 & 1 \\\\ 1 & 0 \\end{bmatrix} = |0\\rangle\\langle1| + |1\\rangle\\langle0| $$\n",
        "\n",
        "Effect a gate has on a qubit: \n",
        "\n",
        "$$ X|0\\rangle = \\begin{bmatrix} 0 & 1 \\\\ 1 & 0 \\end{bmatrix}\\begin{bmatrix} 1 \\\\ 0 \\end{bmatrix} = \\begin{bmatrix} 0 \\\\ 1 \\end{bmatrix} = |1\\rangle$$\n"
      ]
    },
    {
      "cell_type": "code",
      "metadata": {
        "id": "1lqQWwxNO-vX",
        "outputId": "18433573-73fb-42cb-be08-419754e65ece"
      },
      "source": [
        "# Let's do an X-gate on a |0> qubit\n",
        "qc = QuantumCircuit(1)\n",
        "qc.x(0)\n",
        "qc.draw('mpl')"
      ],
      "execution_count": null,
      "outputs": [
        {
          "output_type": "execute_result",
          "data": {
            "image/png": "[encoded data removed]",
            "text/plain": [
              "<Figure size 173.376x84.28 with 1 Axes>"
            ]
          },
          "metadata": {
            "tags": []
          },
          "execution_count": 31
        }
      ]
    },
    {
      "cell_type": "code",
      "metadata": {
        "id": "x3Cp-AY5O-vY",
        "outputId": "c6cb6653-872c-4ac2-f63f-5770f31984ca"
      },
      "source": [
        "# Let's see the result\n",
        "backend = Aer.get_backend('statevector_simulator')\n",
        "out = execute(qc,backend).result().get_statevector()\n",
        "plot_bloch_multivector(out)"
      ],
      "execution_count": null,
      "outputs": [
        {
          "output_type": "execute_result",
          "data": {
            "image/png": "[encoded data removed]",
            "text/plain": [
              "<Figure size 288x288 with 1 Axes>"
            ]
          },
          "metadata": {
            "tags": []
          },
          "execution_count": 32
        }
      ]
    },
    {
      "cell_type": "markdown",
      "metadata": {
        "id": "1oUrGrIPO-vY"
      },
      "source": [
        "## Z & Y-Gate"
      ]
    },
    {
      "cell_type": "markdown",
      "metadata": {
        "id": "RpD47EiAO-vZ"
      },
      "source": [
        "\n",
        "\n",
        "$$ Y = \\begin{bmatrix} 0 & -i \\\\ i & 0 \\end{bmatrix} \\quad\\quad\\quad\\quad Z = \\begin{bmatrix} 1 & 0 \\\\ 0 & -1 \\end{bmatrix} $$\n",
        "\n",
        "$$ Y = -i|0\\rangle\\langle1| + i|1\\rangle\\langle0| \\quad\\quad Z = |0\\rangle\\langle0| - |1\\rangle\\langle1| $$\n",
        "\n",
        "\n"
      ]
    },
    {
      "cell_type": "code",
      "metadata": {
        "id": "G72iBNNvO-vZ",
        "outputId": "5a63abed-5c2c-47d2-cf1c-2f0358c3d295"
      },
      "source": [
        "qc.y(0) # Do Y-gate on qubit 0\n",
        "qc.z(0) # Do Z-gate on qubit 0\n",
        "qc.draw('mpl')"
      ],
      "execution_count": null,
      "outputs": [
        {
          "output_type": "execute_result",
          "data": {
            "image/png": "[encoded data removed]",
            "text/plain": [
              "<Figure size 293.776x84.28 with 1 Axes>"
            ]
          },
          "metadata": {
            "tags": []
          },
          "execution_count": 33
        }
      ]
    },
    {
      "cell_type": "markdown",
      "metadata": {
        "id": "zJY4J_vxO-va"
      },
      "source": [
        "## Hadamard Gate"
      ]
    },
    {
      "cell_type": "markdown",
      "metadata": {
        "id": "wpl0JVmxO-va"
      },
      "source": [
        "\n",
        "\n",
        "$$ H = \\tfrac{1}{\\sqrt{2}}\\begin{bmatrix} 1 & 1 \\\\ 1 & -1 \\end{bmatrix} $$\n",
        "\n",
        "We can see that this performs the transformations below:\n",
        "\n",
        "$$ H|0\\rangle = |+\\rangle $$\n",
        "\n",
        "$$ H|1\\rangle = |-\\rangle $$"
      ]
    },
    {
      "cell_type": "code",
      "metadata": {
        "id": "Lw48c1N1O-vb",
        "outputId": "3b5eecb2-667d-4ee9-f50c-c0c6ecf39712"
      },
      "source": [
        "qc = QuantumCircuit(3)\n",
        "# Apply H-gate to each qubit:\n",
        "for qubit in range(3):\n",
        "    qc.h(qubit)\n",
        "# See the circuit:\n",
        "qc.draw('mpl')"
      ],
      "execution_count": null,
      "outputs": [
        {
          "output_type": "execute_result",
          "data": {
            "image/png": "[encoded data removed]",
            "text/plain": [
              "<Figure size 238.392x204.68 with 1 Axes>"
            ]
          },
          "metadata": {
            "tags": []
          },
          "execution_count": 34
        }
      ]
    },
    {
      "cell_type": "markdown",
      "metadata": {
        "id": "EtvMT-BZO-vb"
      },
      "source": [
        "## Identity Gate"
      ]
    },
    {
      "cell_type": "markdown",
      "metadata": {
        "id": "S1Vw9fw1O-vc"
      },
      "source": [
        "\n",
        "\n",
        "$$\n",
        "I = \\begin{bmatrix} 1 & 0 \\\\ 0 & 1\\end{bmatrix}\n",
        "$$\n",
        "\n",
        "\n",
        "\n",
        "$$ I = XX $$\n",
        "\n"
      ]
    },
    {
      "cell_type": "code",
      "metadata": {
        "id": "JW7f454rO-vc",
        "outputId": "7e9f8550-807c-4afa-e47f-9377e16c6432"
      },
      "source": [
        "qc = QuantumCircuit(1)\n",
        "qc.i(0)\n",
        "qc.draw('mpl')"
      ],
      "execution_count": null,
      "outputs": [
        {
          "output_type": "execute_result",
          "data": {
            "image/png": "[encoded data removed]",
            "text/plain": [
              "<Figure size 173.376x84.28 with 1 Axes>"
            ]
          },
          "metadata": {
            "tags": []
          },
          "execution_count": 35
        }
      ]
    },
    {
      "cell_type": "markdown",
      "metadata": {
        "id": "j7BDbKGHO-vd"
      },
      "source": [
        " ** Other Gates: S-gate , T-gate, U-gate"
      ]
    },
    {
      "cell_type": "markdown",
      "metadata": {
        "id": "0Dd28-56O-vd"
      },
      "source": [
        "## Multiple Qubits, Entanglement"
      ]
    },
    {
      "cell_type": "markdown",
      "metadata": {
        "id": "D5ywv1w4O-vd"
      },
      "source": [
        "## Multiple Qubits"
      ]
    },
    {
      "cell_type": "markdown",
      "metadata": {
        "id": "v8oVuaioO-ve"
      },
      "source": [
        "The state of two qubits :\n",
        "\n",
        "$$ |psi\\rangle = a_{00}|00\\rangle + a_{01}|01\\rangle + a_{10}|10\\rangle + a_{11}|11\\rangle = \\begin{bmatrix} a_{00} \\\\ a_{01} \\\\ a_{10} \\\\ a_{11} \\end{bmatrix} $$"
      ]
    },
    {
      "cell_type": "code",
      "metadata": {
        "id": "alf07QBfO-ve"
      },
      "source": [
        "from qiskit import * "
      ],
      "execution_count": null,
      "outputs": []
    },
    {
      "cell_type": "code",
      "metadata": {
        "id": "W1kK_y9hO-vf",
        "outputId": "35aff6bd-62b8-4da9-c60c-e04549226453"
      },
      "source": [
        "qc = QuantumCircuit(3)\n",
        "\n",
        "for qubit in range(3):\n",
        "    qc.h(qubit)\n",
        "\n",
        "qc.draw('mpl')"
      ],
      "execution_count": null,
      "outputs": [
        {
          "output_type": "execute_result",
          "data": {
            "image/png": "[encoded data removed]",
            "text/plain": [
              "<Figure size 238.392x204.68 with 1 Axes>"
            ]
          },
          "metadata": {
            "tags": []
          },
          "execution_count": 3
        }
      ]
    },
    {
      "cell_type": "markdown",
      "metadata": {
        "id": "iIHiMFx0O-vf"
      },
      "source": [
        "Each qubit is in the state $|+\\rangle$, so we should see the vector:\n",
        "\n",
        "$$ \n",
        "|{+++}\\rangle = \\frac{1}{\\sqrt{8}}\\begin{bmatrix} 1 \\\\ 1 \\\\ 1 \\\\ 1 \\\\\n",
        "                              1 \\\\ 1 \\\\ 1 \\\\ 1 \\\\\n",
        "              \\end{bmatrix}\n",
        "$$"
      ]
    },
    {
      "cell_type": "code",
      "metadata": {
        "id": "glQ2IAj3O-vg",
        "outputId": "5f132a86-cbf9-4c98-a601-ac466e8689ef"
      },
      "source": [
        "backend = Aer.get_backend('statevector_simulator')\n",
        "final_state= execute(qc, backend).result().get_statevector()\n",
        "print(final_state)"
      ],
      "execution_count": null,
      "outputs": [
        {
          "output_type": "stream",
          "text": [
            "[0.35355339+0.j 0.35355339+0.j 0.35355339+0.j 0.35355339+0.j\n",
            " 0.35355339+0.j 0.35355339+0.j 0.35355339+0.j 0.35355339+0.j]\n"
          ],
          "name": "stdout"
        }
      ]
    },
    {
      "cell_type": "code",
      "metadata": {
        "id": "o3Y1hA_CO-vg",
        "outputId": "2e1b1836-4607-461c-f14a-3eafdbe55df6"
      },
      "source": [
        "qc = QuantumCircuit(2)\n",
        "\n",
        "qc.x(0)\n",
        "qc.h(1)\n",
        "\n",
        "qc.draw('mpl')"
      ],
      "execution_count": null,
      "outputs": [
        {
          "output_type": "execute_result",
          "data": {
            "image/png": "[encoded data removed]",
            "text/plain": [
              "<Figure size 238.392x144.48 with 1 Axes>"
            ]
          },
          "metadata": {
            "tags": []
          },
          "execution_count": 8
        }
      ]
    },
    {
      "cell_type": "markdown",
      "metadata": {
        "id": "kIrFkVyRO-vh"
      },
      "source": [
        "\n",
        "\n",
        "$$\n",
        "X|q_1\\rangle \\otimes H|q_0\\rangle = (X\\otimes H)|q_1 q_0\\rangle\n",
        "$$\n",
        "\n",
        "The operation looks like this:\n",
        "\n",
        "$$\n",
        "X\\otimes H = \\begin{bmatrix} 0 & 1 \\\\ 1 & 0 \\end{bmatrix} \\otimes \\tfrac{1}{\\sqrt{2}}\\begin{bmatrix} 1 & 1 \\\\ 1 & -1 \\end{bmatrix} = \\frac{1}{\\sqrt{2}}\n",
        "\\begin{bmatrix} 0 & 0 & 1 & 1 \\\\\n",
        "                0 & 0 & 1 & -1 \\\\\n",
        "                1 & 1 & 0 & 0 \\\\\n",
        "                1 & -1 & 0 & 0 \\\\\n",
        "\\end{bmatrix}\n",
        "$$\n",
        "\n",
        "Which we can then apply to our 4D statevector $|q_1 q_0\\rangle$. You will often see the clearer notation:\n",
        "\n",
        "$$\n",
        "X\\otimes H = \n",
        "\\begin{bmatrix} 0 & H \\\\\n",
        "               H & 0\\\\\n",
        "\\end{bmatrix}\n",
        "$$"
      ]
    },
    {
      "cell_type": "markdown",
      "metadata": {
        "id": "hJuppGF_O-vh"
      },
      "source": [
        "## C-Not Gate"
      ]
    },
    {
      "cell_type": "code",
      "metadata": {
        "id": "9rSGz6L7O-vi",
        "outputId": "721509e8-69c4-48c8-d4db-d8c035c57e83"
      },
      "source": [
        "qc = QuantumCircuit(2)\n",
        "\n",
        "qc.cx(0, 1)\n",
        "\n",
        "qc.draw('mpl')\n",
        "\n"
      ],
      "execution_count": null,
      "outputs": [
        {
          "output_type": "execute_result",
          "data": {
            "image/png": "[encoded data removed]",
            "text/plain": [
              "<Figure size 238.392x144.48 with 1 Axes>"
            ]
          },
          "metadata": {
            "tags": []
          },
          "execution_count": 11
        }
      ]
    },
    {
      "cell_type": "markdown",
      "metadata": {
        "id": "UBIPChO4O-vj"
      },
      "source": [
        "Classical truth table of C-Not gate:\n",
        "\n",
        "| Input (t,c) | Output (t,c) |\n",
        "|:-----------:|:------------:|\n",
        "| 00          | 00           |\n",
        "| 01          | 11           |\n",
        "| 10          | 10           |\n",
        "| 11          | 01           |\n",
        "\n"
      ]
    },
    {
      "cell_type": "markdown",
      "metadata": {
        "id": "xI6zpvc-O-vk"
      },
      "source": [
        "## Entanglement"
      ]
    },
    {
      "cell_type": "code",
      "metadata": {
        "id": "1fYLjc4VO-vk",
        "outputId": "3b1f6e20-1cec-4daf-f670-bae70e60c063"
      },
      "source": [
        "qc = QuantumCircuit(2)\n",
        "# Apply H-gate to the first:\n",
        "qc.h(0)\n",
        "qc.draw('mpl')"
      ],
      "execution_count": null,
      "outputs": [
        {
          "output_type": "execute_result",
          "data": {
            "image/png": "[encoded data removed]",
            "text/plain": [
              "<Figure size 238.392x144.48 with 1 Axes>"
            ]
          },
          "metadata": {
            "tags": []
          },
          "execution_count": 41
        }
      ]
    },
    {
      "cell_type": "code",
      "metadata": {
        "id": "dMJxbCVTO-vl",
        "outputId": "401f6d46-7bea-4fa0-de92-75b85fd4644f"
      },
      "source": [
        "# Let's see the result:\n",
        "backend = Aer.get_backend('statevector_simulator')\n",
        "final_state = execute(qc,backend).result().get_statevector()\n",
        "print(final_state)"
      ],
      "execution_count": null,
      "outputs": [
        {
          "output_type": "stream",
          "text": [
            "[0.70710678+0.j 0.70710678+0.j 0.        +0.j 0.        +0.j]\n"
          ],
          "name": "stdout"
        }
      ]
    },
    {
      "cell_type": "markdown",
      "metadata": {
        "id": "0H2s6T1bO-vm"
      },
      "source": [
        "Quantum System Sate is:\n",
        "\n",
        "$$\n",
        "|0{+}\\rangle = \\tfrac{1}{\\sqrt{2}}(|00\\rangle + |01\\rangle)\n",
        "$$\n"
      ]
    },
    {
      "cell_type": "code",
      "metadata": {
        "id": "ty8fYd1PO-vm",
        "outputId": "065a4bc9-713c-4381-e60c-3c2b91d876f6"
      },
      "source": [
        "qc = QuantumCircuit(2)\n",
        "# Apply H-gate to the first:\n",
        "qc.h(0)\n",
        "# Apply a CNOT:\n",
        "qc.cx(0,1)\n",
        "qc.draw('mpl')"
      ],
      "execution_count": null,
      "outputs": [
        {
          "output_type": "execute_result",
          "data": {
            "image/png": "[encoded data removed]",
            "text/plain": [
              "<Figure size 298.592x144.48 with 1 Axes>"
            ]
          },
          "metadata": {
            "tags": []
          },
          "execution_count": 43
        }
      ]
    },
    {
      "cell_type": "code",
      "metadata": {
        "id": "vgnQ3-paO-vn",
        "outputId": "456cd5bd-43de-4574-ed7b-7418a32cf687"
      },
      "source": [
        "# Let's see the result:\n",
        "backend = Aer.get_backend('statevector_simulator')\n",
        "final_state = execute(qc,backend).result().get_statevector()\n",
        "print(final_state)"
      ],
      "execution_count": null,
      "outputs": [
        {
          "output_type": "stream",
          "text": [
            "[0.70710678+0.j 0.        +0.j 0.        +0.j 0.70710678+0.j]\n"
          ],
          "name": "stdout"
        }
      ]
    },
    {
      "cell_type": "markdown",
      "metadata": {
        "id": "ywIrd4sOO-vn"
      },
      "source": [
        "We see we have this final state (Bell State):\n",
        "\n",
        "$$\n",
        "\\text{CNOT}|0{+}\\rangle = \\tfrac{1}{\\sqrt{2}}(|00\\rangle + |11\\rangle)\n",
        "$$ \n",
        "\n"
      ]
    },
    {
      "cell_type": "markdown",
      "metadata": {
        "id": "dJSAFn3IO-vo"
      },
      "source": [
        "Other Bell States:"
      ]
    },
    {
      "cell_type": "markdown",
      "metadata": {
        "id": "lDRtm9tZO-vo"
      },
      "source": [
        "## Bernstein-Vazirani Algorithm"
      ]
    },
    {
      "cell_type": "markdown",
      "metadata": {
        "id": "Sq_9Hpq8O-vo"
      },
      "source": [
        "\n",
        "A black-box function $f$, which takes as input a string of bits ($x$), and returns either $0$ or $1$, that is:\n",
        "\n",
        "$$f(\\{x_0,x_1,x_2,...\\}) \\rightarrow 0 \\textrm{ or } 1 \\textrm{ where } x_n \\textrm{ is }0 \\textrm{ or } 1  $$ \n",
        "\n",
        "The function is guaranteed to return the bitwise product of the input with some string, $s$. \n"
      ]
    },
    {
      "cell_type": "markdown",
      "metadata": {
        "id": "AuLbDmb1O-vp"
      },
      "source": [
        "In other words, given an input $x$, $f(x) = s \\cdot x \\, \\text{(mod 2)} =\\ x_0 * s_0+x_1*s_1+x_2*s_2+...\\ $ mod 2"
      ]
    },
    {
      "cell_type": "markdown",
      "metadata": {
        "id": "81XvWHQzO-vp"
      },
      "source": [
        "# Classical-solution:\n",
        "    \n",
        "|Input(x)|\n",
        "|:-----:|\n",
        "|100...0|\n",
        "|010...0|\n",
        "|001...0|\n",
        "|000...1|\n",
        "\n",
        "Where each query reveals a different bit of $s$ (the bit $s_i$)"
      ]
    },
    {
      "cell_type": "markdown",
      "metadata": {
        "id": "zjDMWzBIO-vq"
      },
      "source": [
        "# The quantum Bernstein-Vazirani Oracle:\n",
        "    \n",
        "1. Initialise the inputs qubits to the $|0\\rangle^{\\otimes n}$ state, and output qubit to $|{-}\\rangle$.\n",
        "2. Apply Hadamard gates to the input register\n",
        "3. Query the oracle\n",
        "4. Apply Hadamard gates to the input register\n",
        "5. Measure"
      ]
    },
    {
      "cell_type": "markdown",
      "metadata": {
        "id": "JMNAQkQ7O-vq"
      },
      "source": [
        "## Example Two Qubits:\n",
        "\n",
        "<ol>\n",
        "    <li> The register of two qubits is initialized to zero:\n",
        "    \n",
        "\n",
        "$$\\lvert \\psi_0 \\rangle = \\lvert 0 0 \\rangle$$\n",
        "\n",
        " \n",
        "   </li>\n",
        "\n",
        "   <li> Apply a Hadamard gate to both qubits:\n",
        "    \n",
        "\n",
        "$$\\lvert \\psi_1 \\rangle = \\frac{1}{2} \\left( \\lvert 0 0 \\rangle + \\lvert 0 1 \\rangle + \\lvert 1 0 \\rangle + \\lvert 1 1 \\rangle \\right) $$\n",
        "\n",
        " \n",
        "   </li>\n",
        "\n",
        "   <li> For the string $s=11$, the quantum oracle performs the operation:\n",
        "$$\n",
        "|x \\rangle \\xrightarrow{f_s} (-1)^{x\\cdot 11} |x \\rangle. \n",
        "$$\n",
        "\n",
        "$$\\lvert \\psi_2 \\rangle = \\frac{1}{2} \\left( (-1)^{00\\cdot 11}|00\\rangle + (-1)^{01\\cdot 11}|01\\rangle + (-1)^{10\\cdot 11}|10\\rangle + (-1)^{11\\cdot 11}|11\\rangle \\right)$$\n",
        "\n",
        "$$\\lvert \\psi_2 \\rangle = \\frac{1}{2} \\left( \\lvert 0 0 \\rangle - \\lvert 0 1 \\rangle - \\lvert 1 0 \\rangle + \\lvert 1 1 \\rangle \\right)$$\n",
        "\n",
        " \n",
        "   </li>\n",
        "\n",
        "   <li> Apply a Hadamard gate to both qubits:\n",
        "    \n",
        "\n",
        "$$\\lvert \\psi_3 \\rangle = \\lvert 1 1 \\rangle$$\n",
        "\n",
        " \n",
        "   </li>\n",
        "\n",
        "   <li> Measure to find the secret string $s=11$\n",
        "   </li>\n",
        "\n",
        "\n",
        "</ol>\n"
      ]
    },
    {
      "cell_type": "code",
      "metadata": {
        "id": "8_kXAsdLO-vq"
      },
      "source": [
        "from qiskit import *\n",
        "%matplotlib inline\n",
        "from qiskit.tools.visualization import plot_histogram"
      ],
      "execution_count": null,
      "outputs": []
    },
    {
      "cell_type": "code",
      "metadata": {
        "id": "x2dFGk7RO-vr"
      },
      "source": [
        "secret_num = '101001'"
      ],
      "execution_count": null,
      "outputs": []
    },
    {
      "cell_type": "code",
      "metadata": {
        "id": "GUtlGefZO-vr",
        "outputId": "cdb07191-0557-4fb1-da14-d9c185b6c20f"
      },
      "source": [
        "circuit = QuantumCircuit(6+1,6)\n",
        "circuit.h([0,1,2,3,4,5])\n",
        "\n",
        "circuit.x(6)\n",
        "circuit.h(6)\n",
        "\n",
        "circuit.barrier()\n",
        "\n",
        "\n",
        "circuit.cx(5,6)\n",
        "circuit.cx(3,6)\n",
        "circuit.cx(0,6)\n",
        "\n",
        "circuit.barrier()\n",
        "circuit.h([0,1,2,3,4,5])\n",
        "\n",
        "circuit.measure([0,1,2,3,4,5],[0,1,2,3,4,5])"
      ],
      "execution_count": null,
      "outputs": [
        {
          "output_type": "execute_result",
          "data": {
            "text/plain": [
              "<qiskit.circuit.instructionset.InstructionSet at 0x277a2388>"
            ]
          },
          "metadata": {
            "tags": []
          },
          "execution_count": 47
        }
      ]
    },
    {
      "cell_type": "code",
      "metadata": {
        "id": "wLhZ5KbyO-vs",
        "outputId": "9e5b2ed0-b484-49c0-ec65-c764c4c315b0"
      },
      "source": [
        "circuit.draw(output= 'mpl')"
      ],
      "execution_count": null,
      "outputs": [
        {
          "output_type": "execute_result",
          "data": {
            "image/png": "[encoded data removed]",
            "text/plain": [
              "<Figure size 1020.99x505.68 with 1 Axes>"
            ]
          },
          "metadata": {
            "tags": []
          },
          "execution_count": 48
        }
      ]
    },
    {
      "cell_type": "code",
      "metadata": {
        "id": "81FEeORCO-vs",
        "outputId": "781dff39-7dfd-460d-d8f1-e85d3b7c3549"
      },
      "source": [
        "simulator = Aer.get_backend('qasm_simulator')\n",
        "result = execute(circuit, backend= simulator, shots = 1).result()\n",
        "counts= result.get_counts()\n",
        "print(counts)"
      ],
      "execution_count": null,
      "outputs": [
        {
          "output_type": "stream",
          "text": [
            "{'101001': 1}\n"
          ],
          "name": "stdout"
        }
      ]
    },
    {
      "cell_type": "code",
      "metadata": {
        "id": "KvrqWngMO-vt"
      },
      "source": [
        ""
      ],
      "execution_count": null,
      "outputs": []
    }
  ]
}